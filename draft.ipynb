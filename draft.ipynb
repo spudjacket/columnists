{
 "cells": [
  {
   "cell_type": "code",
   "execution_count": 1,
   "metadata": {},
   "outputs": [],
   "source": [
    "import pandas as pd\n",
    "import os\n",
    "import string\n",
    "import datetime as dt\n",
    "import pathlib"
   ]
  },
  {
   "cell_type": "code",
   "execution_count": 2,
   "metadata": {},
   "outputs": [],
   "source": [
    "os.getcwd()\n",
    "os.chdir(\"./Mike Hulett/\")"
   ]
  },
  {
   "cell_type": "code",
   "execution_count": 3,
   "metadata": {},
   "outputs": [],
   "source": [
    "def read_text_file(file_path):\n",
    "\twith open(file_path, 'r', encoding='utf-8' ) as f:\n",
    "\t# with open(file_path, 'r', encoding='cp1252' ) as f:\n",
    "\t\treturn f.read()\n",
    "\t\t\n",
    "def print_punctuation(input_string=None):\n",
    "\tpunct_str = \"\"\n",
    "\tfor i in range(len(input_string)):\n",
    "\t\tchar = input_string[i] \n",
    "\t\tchar = char.replace('”', \"\\\"\")\n",
    "\t\tchar = char.replace('“', \"\\\"\")\n",
    "\t\tchar = char.replace(\"\\n\", \" \")\n",
    "\t\tif char in string.punctuation:\n",
    "\t\t\tpunct_str = punct_str + char\n",
    "\treturn punct_str"
   ]
  },
  {
   "cell_type": "code",
   "execution_count": 4,
   "metadata": {},
   "outputs": [
    {
     "name": "stdout",
     "output_type": "stream",
     "text": [
      ",.\",\".,-,.,.,-.,,',-.,-.,,-..,.,,.,,\".\",.\".\",,-.,-..,?,,.!-,,?,..,.,.,\",\"..,,.,..:\",,.\"?..,,.\"\":\":....\";!\n",
      ",:\",,.,..\"!..,,,.:\",,.\".,.:\"(),.\".:\",,--?\"?:\",,,?\",.,.,.\"\".,.\",\"..-\".\".,-...,..,-:\"...-.\"!,-\"\"..\n",
      ";,..!,./.,,.%..:,,,,,,;.,,,..,....!.,....,,.,..,,,.-..,,,.....,,.\n",
      "-.,,....,-.,,-.,.-.-.\",\"-?.-\"\".-\"\",-..\".\"-,\"\".,:\"?\":\".\",.?-?:.\"\"..,.,.,,,,!.-?:--,\".\",,.,.-,-,.,.()...,.\n",
      ".,??..,:,,,-?:\",,.\"??,?,.\"\".\"\".,,.,,.,.,,-..:,,.(%)-..,,.,-,(),.(,.)..(%),,,:(%).\"\".,.:,,--+.,-.\"\".\n",
      "...,.,,.\"\",,.,,,,.,.,.,-,.,.;....,..,.\"\".\"\",..,.,,,.,-.,\".\",,.,.,,..,.-,-,.:,,?,,\"\"\"\"?.,,?\n",
      ".,/...,...,.-.,-.??.,.,.?,,.:.......,..?..:\",,.\"--,..-,..\",\",.\"\".,:??,--?..\n",
      ".,,..,.......\",\",,..,..,..\"\"..\",\",,,,...,....,-,,-\".\"\".,.\":.\",\"-,,.,,\".\"-,.:,.-,\",\",-,.\n",
      "--....,.:,,,,,,,.,.,,\"\".,.,,.(--),,,,,,,,,,....,.-,?!,.?\"!\"!-\"\".,.,\"\"\"-.\",,.,.,.,\".\":,,.\",\",..\",\"\".\".!\n",
      ":,\"\"\"\".--,,,.--,.\"\".,,\",,,.\":\".\",..,.\"\";-.,.?.,--,.,-.\"\",\".\":\"..\",,.,-,,,,\"\",!-.-,,,,\"\".-,-\".\",-.\n",
      ".,-.,.,,.\".\"\"-.\",.,,.,,.'.,.,,..,.,%,,.,-.,.,-..,.:\".\",.--?..-,...,\"\".,....,.,\"!\",-:\",.,,..?,,,,?.\"\n",
      "\",,.\"-.,:\",.\",,\"?!,,,.,.\"....,,,.....,,,$.%..,.,.,,.,,$.,,.,,.-..,,,..,,-.,,-,.,\".\"\n",
      "-:?.,,.\",.\",.-..,\".\"-\",\"..:\".,...,-,.\":\"---...,.\"-,,.\".\".,:\".\",:\",:..\",,.?,,.\"\"..?:,\".\".,-..,,,,!\n",
      ",/,.::\",..\"-,,.,,,..,,..\"?\"\"\"\"\"?,-:\",,\"\".\":-...,,\"\"\"\"?!\"?\"\"\",....:---,,-,.!,,,,,,.,.,.-..\n",
      "\"\",,,-.,,.\"\"-.:\".\",,,.!,:\"-!!\",:.,...,,.,-\"\"-,,.\"\"..,...-.,,--,-.,:\"!\",,..,.\"\".\n",
      "-,/,.\"..!\"!,,,.\",!\"-\"\".\"\",,...,-.,,-.,''.-.,.-.,,..-\"\"?:.:\"-!\"\"\",,,.\"\".,\"\"-..,....!%,,..--...,,.%.?.,?.\n",
      ".,,,.,.:\",.,:,.-,,.,.?\"!--:\"...\"!,.,,,-.,\"\"-..,.,.\".\"-,,,:\"().\"!?\"..\"..,\".\",\".\"!;\"\"\".\"!:.\"\".,\"\"\"\".,..,,,,,..\n",
      ":\".\":\"!\"!.\"\"',,,,..()..,.,,....()\"\"\".\"()\"\".;.()-...;.(),-.,\".\"():\".\"()',,,,.(,)\"\",.(,)/.(,)!(,)-,,,...-,,,,----.,,\"\"\",\".:-.--.,,,,,!\n",
      "\"----\".\",,.,.\":,-,.,-,,.!...,.,.,.,-.,,.,-..,....;.:\",,,.\".,\".\"()-,-,.,,,.(,)\",\"%...-,%.,%\"\".\",\".\"\",,;,,....\n",
      "-,,,..,.,.,.--..,.?,.-.(.)...-..:.:,,.!.!-.,..\"\".....,..,...\".\",.\n",
      ":\",,().,...()-.,,.\"(\",\".\"\".)\",\",.-.\"\",,,,\"...\",,!-\"\"-,.,.\"-\",\"..,\"?:\",??--,.\",:\".\"?--./.-/.,,/./.\"?\"\"\"-?..\".\"\n",
      "\",\".\"','..\"'.\"\"?,-.-,.-\"\"--.,.\"\"-:...-..-..,..-.\"\"-:-......-,./.,\".\"..-,,...\"\"...,..\".\"-\"\"-,.\"!\"\n",
      "&\"\"-..:\"\"\"-.\",..,....,.,,.$,.-.?-/.,.,-.,,,-....!.,!-..,,,\"!\"\n",
      ".-,,\"\".-,,,..-..\"\"\"\",\".\"\",\"\"\"!-,,\"\"--\"\"\"!\",,\"\".\"\"\",\"\"\".\"\",\"\"\"\"-.\".\"\"\",.-,!,/.\",\".,.-..\"\".,,-.\n",
      "...-,.-\",\",.\"\"\"\".\"\".\"\"\",,.\"\"\",.\".\"-,,,-,(%),(%).,-\".\",,-..,%.--.,.,,.,,,%,.(%)\".\".,-,(),.,,\".\":\"\".,.,,.,,\"\".\n",
      "...,\",\".\"\".,.,.,-..-,,,...,:),,)..\"\".,.\".\",,\"\".,,,??.:-:\";,..,;,.\"\n",
      ".-,.,,.,.....,-,,.-.\"\"().-,\"\".-.,.,....,.,,-,,,,.-,+,.-..,.,,......,,\"\"....,.,.\n",
      ",-,,,:\"..\":\".\"\"\"\"\"\"\"\".\",-.,\",\".,,..,,:\".\",\"\"\"\".-.,,.,.,:\".,,;.\",\".\".,.-,,,-,,-,-.\"\",-.-,-,-,\"\"-,,,,.\",\"\"\"-,.\n",
      "!.....,.\"\"/-,,,.,-..-,-.,,.,,,,.(.)...,.+-.,...$,,$,.-.,,-.\"\"..:,,,,,,,,,,,,,(,,),,-,!:,,.,\"\"\".\".,,,,-...!\n",
      "\",\"-,:\"',.\"\"\"....\".\".,,.\"\"\"\"-.,..,\".\",,,\"\".\",,\",,\"\".--,-..\".\",..\",\"\".\"-..,,-.,\".\",,!\",\"\n",
      "..,,().!\"\".,,:\",,.',,..\".,,.,\"\".,-,:\",,,,,,,..,,.\".,,,\"\"\".\",,.,-.,.\"\"??\".\",,,,,.\n",
      ",,.,,.,,..,,,,,,,\"-!\".,,,.,...,.,,..,,.,,..,',.,...,.,-.,.,,.,-..,.,,..,--\"\".--.\n",
      ":\"\",\"\",\"\",\"\",\".\":.--.%%.-:..:,.:%%.,!--:..-.-,,.-..,,.!,.\"\"\".\":\"'.\"(.).,--,,,-.\"\"\".\"...\"\"..(-).\",!\"??,,\".\"!\n",
      ",,,./.--.,,.,-.,,.,,,,.-...,.,.(.)-,,-,,-.,,..,,.,.,...,-.,,,,.;.,\"\",,.,,,-,.,,,,.,.,,.\n",
      ".,-,......,:\".\",,,,,....,..,--..,\"--,\".,,.,,....,;.:,?,()...,-...,.\n",
      ",,,.\".\"\"\"\"\"-.:\"',''.\",!'..,,,-...\"\"%%,%%..,......,,,...?,,-.,.\"\".!,.,-./-?..!.,!,\".\"\n",
      ".,.,.\"\"-\"-.\",-,,,.\"\".\"\"\"\".\"\"?,-.-.,./,..-..,.,,..,.,,.--.,\".\",,.---,,../,-.,,.,.\n",
      ".\"\",..,...,..,....,,.?,-.-?-?-.\"\"...,\",\".,-.$+....\"\"\"\",--,-!?.,.?,.,-,.-,,,,...-...,.\n",
      "\"\"...\"\"\".\"\"\",,\".\",.,\"\"\".\",..'\"\".,.,\",\"\",\"\"\"...\"\"\",,-.\",\"\"\"\".\"-\",\".\"-..,\":,\".,,..\"\"..\".,,,-,,,\".\",,.\"\n",
      "....,..,..,.,,\".\".\",\"'.\"..\"\"-..,,,\".\".,,\"'.,,.,..$.,..',..,....:??,,??,!\n",
      ",:\".\"\",.,.,,.,.\".,,.-,..,.,.-.:,.\"\",.,\",\".\",\"\".\".-.,,-,.\".\":\"-.\".-..,:\"\".-.-.\".\",,.\n",
      ",...-.,.,,\"\"\".\"...,.,\"\"\".\"-.,,,\"\"..--,,..,..,,.,.,\".\"\"\"\".\"-....-.-,,,-.\n",
      ",...-.,.,,\"\"\".\"...,.,\"\"\".\"-.,,,\"\"..--,,..,..,,.,.,\".\"\"\"\".\"-....-.-,,,-.\n",
      "\"\"--.,-,,.!,.-,,.\":,,\"\":,,\"-.-.,.,,-!,,,,,,.,-,,-...:?,,'-.,\"-\"...?,,,,,.\n",
      ".-.,,....,..,.,-.,./.?,.,-.,,.-...,-.(---)?,..,,,,-.!,-,%-,--,-,,.,\".\",.....,..,,--.\n",
      "..\",\".,.,,.,/,.-.,..\".\",-.,/,.,,.-..,..\"\"\"\"\"\".,\"\"!(!).,,.,.--,.,-,..?,,.\"\"?,,,.\"?\",.,?\n",
      ",,...,,,--...-.-.$.-,..,,,.,,..%.%,,%.,,.,..-,.--.\"\".\".\"..-?.,,.\n",
      "\"-,.,.\":\",..,..,..-.\".()--.,..-,,.:\"..?.\".\",\"..().\"\"\".\",.\"\"$..,,.,,-..---..:\"-...,-,!\"-,,,,,,,-.,...,,.\n",
      "\".\"\"\"\"\"\".\",\"\"\"\".\"\"..!,--..,,,,,,.,,.-,,,,,..-..,,...,,-,...$.\"\".,....---..,-?\"!\"\n",
      ",..-,,,.,..---..,-..,.-,,..,,..\"\",-.,.,,,.,.,.\"\".,'.,.\"\"......,.,.,.,,?\n",
      "....,(,,,),.,.,,,,.,.,,,.(:\"\"\"!\"),-.,:\",-.\"...,..,.,-.,\"--\".\"\".,\"\"...,\"\",,.,,.,,\",\",,.\"\".\n",
      ",,\"\".-....,,:\",...,():.\":\".,,-,.-,-...,.\"-\"\",..,,....,\".\"-..(\"\").\"\".%.%'-,.%,(),..-,..-.,,,,.\n",
      ",,.-:\",.-,--.\":\",.\"..,,,,,\"\".:\",,.,..\",\",\"\",\"\",\".,,()$,().'.,.,..,.,,\".,.\",,\"\"\".\".\",\"..\n",
      "\"\",...,.---,,...\"\"\",\"\"\"\",\".\",\",,..\"\",,,.:\",.\",,\"\"\"?\"-\".\":\".\"..,,..,,,,,,.,,.\":.%:.\"'.\"\":\",\"-,.\n",
      "..(,,,,,).-.:\",,-.\"\"\",.\"\",\"\"!...-...\"\"-..,-.,.,,,.\",\",,.,.,.'-.,/,.\"\".,-\".\".\"\"..,,\"\"\"!\",-,,.,?\n",
      ",-.\":..\"..,.,..,,,..,-,.,-.-.-...,.,.,..-,....,,,,.,..\n",
      "-,.\"\"\".\"....\"\".,,-.,,-.\"\"(!).,,,,,,,,,-.,,..,..,\"&,\".,-.,,.,!,',..,:.\n",
      "%..\"\".-\",\"-..-.\"\"...,\",\".-.,---.-..,.\".,\"..-...,,..\"\".-,,...:,,,,,,-;,-.,-.,.,.\".\"(.)!.\"\"!\n",
      "-:\".\",.-..,.-,.,\"\",,..,.,..,.-,?..,,\"--\",,-.,-,.,/-.,?,.,,-,-,--,,-.-..,\"\"\",,.\"\n",
      ".,,.-.,..,,..-?\"!\",,,.\",\".\",..\"(.!)..,-,...,\".-.\",,,-,.,,.-.,..,,,?.-.,-',..,?\n",
      ".-.-.,:\"!\",..,.,,\"',,,.\",..,\"\".,,,-,-.\"\"..,.\".\".-.,.,\".\"!,..,.!?!.!??,,...,,.,.!-...,---\".\"\n",
      ",\"\"\",,.\".,,.?,,,,;.\"-\",-,,.,,!?....,-.?--,.,,.--,-.?!,,,,-,..,.,-.-.-,.!--,.,,,-,-.,,,,.,\"%\".\"\"..,\",,,,.\"\n",
      ",\",.\"!..:\"-..\",,,.:\":?-?\",\",,,,-..,,.\",\"\",-\"-\",?..,.,\"\"-\"?\"\"\"\"\"\"\"?,,.,,.,,.,,-..\"\"\"\",,.,,.,,,.,,.!.\n",
      "\"?\",.,.,-.--..-\",\",\",\".-:\"..\",!,:\"..,,....\":\"?\".--.,,--.:\",.\":\"....\".,,,,.,,,-.\n",
      ",.,.-,,,\".\",,.,.,,%,\"\".%.\"-,.\".\";.\".\".\",\"\".,-?:\"...\"...-,\"\"-.,,.,.\n",
      ",:,-,.,.,,,-.\"-\",.,.-.\"\".!,.,--,-,,--,.-,,..-..\"\".,-.-,,,.,.--..,\"\".-,.-.,-\"\"-,,-.,-,.,,.,:.,,.\n",
      ".,.,,.-(!),..-.,,.:\",-,.\",..\"?\"(-:,,,,,-,!)\"-\",--,,\"\"\"-.\",-.\"-\".,\"-\"--.,\"-\".,-.-.,..,,.,\"\"\".\"..,,.\n"
     ]
    }
   ],
   "source": [
    "wd = os.getcwd()\n",
    "file_list = os.listdir()\n",
    "columnist = wd.split('\\\\')[len(wd.split('\\\\'))-1:][0]\n",
    "\n",
    "# file names are in YYYYMMDD.txt format\n",
    "format = '%Y%m%d'\n",
    "\n",
    "dict = {\n",
    "\t\"columnist\":[],\n",
    "\t\"file_date\":[],\n",
    "\t\"story_punctuation\":[]\n",
    "}\n",
    "\n",
    "# iterate through all files\n",
    "for i in range(len(file_list)):\n",
    "\tfile = file_list[i]\n",
    "\tymd = file[:8]\n",
    "\n",
    "\t# Check whether file is in text format or not\n",
    "\tif file.endswith(\".txt\"):\n",
    "\t\tfile_path = f\"{wd}\\{file}\"\n",
    "\t\tfile_date = dt.datetime.strptime(ymd, format)\n",
    "\t\ts = read_text_file(file_path)\n",
    "\t\tp = print_punctuation(s)\n",
    "\t\tprint(p)\n",
    "\n",
    "# \t\tdict[\"columnist\"].append(columnist)\n",
    "# \t\tdict[\"file_date\"].append(file_date)\n",
    "# \t\tdict[\"story_punctuation\"].append(p)\n",
    "\n",
    "# df = pd.DataFrame(dict)\n"
   ]
  },
  {
   "cell_type": "code",
   "execution_count": 5,
   "metadata": {},
   "outputs": [
    {
     "data": {
      "text/plain": [
       "'.,.,,.-(!),..-.,,.:\",-,.\",..\"?\"(-:,,,,,-,!)\"-\",--,,\"\"\"-.\",-.\"-\".,\"-\"--.,\"-\".,-.-.,..,,.,\"\"\".\"..,,.'"
      ]
     },
     "execution_count": 5,
     "metadata": {},
     "output_type": "execute_result"
    }
   ],
   "source": [
    "p"
   ]
  },
  {
   "cell_type": "code",
   "execution_count": 6,
   "metadata": {},
   "outputs": [],
   "source": [
    "# s = s.replace(\"\\n\", \" \")\n",
    "# s = s.replace('”', \"\\\"\")\n",
    "# s = s.replace('“', \"\\\"\")\n",
    "\n",
    "# s"
   ]
  },
  {
   "cell_type": "code",
   "execution_count": 7,
   "metadata": {},
   "outputs": [],
   "source": [
    "import nltk\n",
    "from nltk.corpus import stopwords\n",
    "from nltk.tokenize import word_tokenize\n",
    "import string\n",
    "import re\n",
    "\n",
    "def text_lowercase(text):\n",
    "    return text.lower()\n",
    "\n",
    "def remove_numbers(text):\n",
    "    result = re.sub(r'\\d+', '', text)\n",
    "    return result\n",
    "\n",
    "def remove_punctuation(text):\n",
    "    translator = str.maketrans('', '', string.punctuation)\n",
    "    return text.translate(translator)    \n",
    "\n",
    "def remove_whitespace(text):\n",
    "    return  \" \".join(text.split())\n",
    "\n",
    "def remove_stopwords(text):\n",
    "    stop_words = set(stopwords.words(\"english\"))\n",
    "    word_tokens = word_tokenize(text)\n",
    "    filtered_text = [word for word in word_tokens if word not in stop_words]\n",
    "    return filtered_text\n",
    "\n",
    "def clean_string(text):\n",
    "    text = text.replace('”', \"\\\"\")\n",
    "    text = text.replace('“', \"\\\"\")\n",
    "    text = text.replace('’', \"\\'\")\n",
    "    \n",
    "    text = text_lowercase(text)\n",
    "    text = remove_numbers(text)\n",
    "    text = remove_punctuation(text)\n",
    "    text = remove_whitespace(text)\n",
    "    text = remove_stopwords(text) \n",
    "    text = ' '.join([str(elem) for elem in text])\n",
    "    return text\n",
    "     "
   ]
  },
  {
   "cell_type": "code",
   "execution_count": 8,
   "metadata": {},
   "outputs": [],
   "source": [
    "cleaned = clean_string(s)\n"
   ]
  },
  {
   "cell_type": "code",
   "execution_count": 9,
   "metadata": {},
   "outputs": [
    {
     "data": {
      "text/plain": [
       "'focusing issues every opinion columnist expects contrary reader responses helpful dialogue occurs responses center substance issues employing adult level discourse rather nasty personal attacks readers may observed forum columnists political map maintain level respect forgoes personal attacks aside occasionally poking goodnatured fun columnists hello tony bender generally stick issues always readers amateur psychological assessment column recently discussed issues identified nonpartisan polling ranking high among voter concerns published reader response letter failing address columns factual substance alan j peterson west fargo wrote mike hulett like farright echo chamber uses substitute brain repeats unproven debunked conspiracies achieve apparent need deride others might feel better control apparently incapable adult level discourse alan j peterson instead launched patently offensive ad hominem attack columnist suppose concocted amateur psychological assessment total stranger achieve apparent need deride others might feel better control people life know feelings selfworth based controlling serving navy lieutenant human resources executive management trainer deputy sheriff moorhead school board city council member first fm chamber board chair dad five outstanding sons farright echo chamber along psychobabble peterson dismisses outofcontrol inflation rising crime open borders domestic energy suicide unproven debunked conspiracies coming farright echo chamber previously reported embedded tucson sector border patrol agents witnessing firsthand extreme crisis open arizona border farright echo chamber existed harsh desert retired minnesota peace officer didnt need farright echo chamber locate current data outofcontrol crime likewise doesnt require farright echo chamber contrast outrageous fuel prices reasonable costs trump years donald trumps discourse level column objective factbased supporter former president donald trumps policies verbatim nonracist charlottesville remarks printed record funding black colleges highlighted significant improvements veterans rebuilt military chinese communist aggression well hand said commentator wont ignore childish trump outbursts including nasty ad hominem attacks outstanding republicans trump already going likely opponent labeling ron desanctimonious putting average governor volumes conservatives independents highly respect ron desantis many see emerging leader republican party trump making fatal mistake order gain broad support nomination needs apologize desantis stop immature discourse focus directly solutions countless critical policy issues'"
      ]
     },
     "execution_count": 9,
     "metadata": {},
     "output_type": "execute_result"
    }
   ],
   "source": [
    "cleaned"
   ]
  },
  {
   "cell_type": "code",
   "execution_count": 10,
   "metadata": {},
   "outputs": [],
   "source": [
    "# # Python3 code to demonstrate working of\n",
    "# # Most frequent word in Strings List\n",
    "# # Using list comprehension + mode()\n",
    "# from statistics import mode\n",
    "\n",
    "# # initializing Matrix\n",
    "# test_list = [\"gfg is best for geeks\", \"geeks love gfg\", \"gfg is best\"]\n",
    "\n",
    "# # printing original list\n",
    "# print(\"The original list is : \" + str(test_list))\n",
    "\n",
    "# # getting all words\n",
    "# temp = [wrd for sub in test_list for wrd in sub.split()]\n",
    "\n",
    "# # getting frequency\n",
    "# res = mode(temp)\n",
    "\n",
    "# # printing result\n",
    "# print(\"Word with maximum frequency : \" + str(res))\n"
   ]
  }
 ],
 "metadata": {
  "kernelspec": {
   "display_name": "Python 3.9.13 64-bit (microsoft store)",
   "language": "python",
   "name": "python3"
  },
  "language_info": {
   "codemirror_mode": {
    "name": "ipython",
    "version": 3
   },
   "file_extension": ".py",
   "mimetype": "text/x-python",
   "name": "python",
   "nbconvert_exporter": "python",
   "pygments_lexer": "ipython3",
   "version": "3.9.13"
  },
  "orig_nbformat": 4,
  "vscode": {
   "interpreter": {
    "hash": "7e4608ffab33544aecd2f97721d910c9b0c38b0c6fa6ab7667a80c134f821554"
   }
  }
 },
 "nbformat": 4,
 "nbformat_minor": 2
}
